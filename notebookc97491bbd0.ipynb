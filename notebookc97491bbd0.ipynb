{
 "cells": [
  {
   "cell_type": "code",
   "execution_count": 1,
   "id": "cd3595a2",
   "metadata": {
    "execution": {
     "iopub.execute_input": "2023-11-11T17:44:43.920164Z",
     "iopub.status.busy": "2023-11-11T17:44:43.919544Z",
     "iopub.status.idle": "2023-11-11T17:44:43.930373Z",
     "shell.execute_reply": "2023-11-11T17:44:43.928899Z"
    },
    "papermill": {
     "duration": 0.019665,
     "end_time": "2023-11-11T17:44:43.933560",
     "exception": false,
     "start_time": "2023-11-11T17:44:43.913895",
     "status": "completed"
    },
    "tags": []
   },
   "outputs": [],
   "source": [
    "import warnings\n",
    "warnings.filterwarnings('ignore')"
   ]
  },
  {
   "cell_type": "code",
   "execution_count": 2,
   "id": "3a167fd0",
   "metadata": {
    "execution": {
     "iopub.execute_input": "2023-11-11T17:44:43.942781Z",
     "iopub.status.busy": "2023-11-11T17:44:43.941463Z",
     "iopub.status.idle": "2023-11-11T17:44:44.251311Z",
     "shell.execute_reply": "2023-11-11T17:44:44.249842Z"
    },
    "papermill": {
     "duration": 0.316813,
     "end_time": "2023-11-11T17:44:44.253921",
     "exception": false,
     "start_time": "2023-11-11T17:44:43.937108",
     "status": "completed"
    },
    "tags": []
   },
   "outputs": [],
   "source": [
    "import numpy as np\n",
    "import pandas as pd"
   ]
  },
  {
   "cell_type": "code",
   "execution_count": 3,
   "id": "229065cb",
   "metadata": {
    "execution": {
     "iopub.execute_input": "2023-11-11T17:44:44.262317Z",
     "iopub.status.busy": "2023-11-11T17:44:44.261815Z",
     "iopub.status.idle": "2023-11-11T17:45:11.690300Z",
     "shell.execute_reply": "2023-11-11T17:45:11.688930Z"
    },
    "papermill": {
     "duration": 27.43582,
     "end_time": "2023-11-11T17:45:11.693101",
     "exception": false,
     "start_time": "2023-11-11T17:44:44.257281",
     "status": "completed"
    },
    "tags": []
   },
   "outputs": [],
   "source": [
    "data = pd.read_csv('/kaggle/input/enron-email-dataset/emails.csv')"
   ]
  },
  {
   "cell_type": "code",
   "execution_count": 4,
   "id": "6ab17818",
   "metadata": {
    "execution": {
     "iopub.execute_input": "2023-11-11T17:45:11.701697Z",
     "iopub.status.busy": "2023-11-11T17:45:11.701259Z",
     "iopub.status.idle": "2023-11-11T17:45:11.827088Z",
     "shell.execute_reply": "2023-11-11T17:45:11.825201Z"
    },
    "papermill": {
     "duration": 0.132939,
     "end_time": "2023-11-11T17:45:11.829762",
     "exception": false,
     "start_time": "2023-11-11T17:45:11.696823",
     "status": "completed"
    },
    "tags": []
   },
   "outputs": [
    {
     "name": "stdout",
     "output_type": "stream",
     "text": [
      "<class 'pandas.core.frame.DataFrame'>\n",
      "RangeIndex: 517401 entries, 0 to 517400\n",
      "Data columns (total 2 columns):\n",
      " #   Column   Non-Null Count   Dtype \n",
      "---  ------   --------------   ----- \n",
      " 0   file     517401 non-null  object\n",
      " 1   message  517401 non-null  object\n",
      "dtypes: object(2)\n",
      "memory usage: 7.9+ MB\n"
     ]
    }
   ],
   "source": [
    "data.info()"
   ]
  },
  {
   "cell_type": "code",
   "execution_count": 5,
   "id": "d08d30f5",
   "metadata": {
    "execution": {
     "iopub.execute_input": "2023-11-11T17:45:11.839117Z",
     "iopub.status.busy": "2023-11-11T17:45:11.838300Z",
     "iopub.status.idle": "2023-11-11T17:45:11.856595Z",
     "shell.execute_reply": "2023-11-11T17:45:11.854944Z"
    },
    "papermill": {
     "duration": 0.025651,
     "end_time": "2023-11-11T17:45:11.859121",
     "exception": false,
     "start_time": "2023-11-11T17:45:11.833470",
     "status": "completed"
    },
    "tags": []
   },
   "outputs": [
    {
     "data": {
      "text/html": [
       "<div>\n",
       "<style scoped>\n",
       "    .dataframe tbody tr th:only-of-type {\n",
       "        vertical-align: middle;\n",
       "    }\n",
       "\n",
       "    .dataframe tbody tr th {\n",
       "        vertical-align: top;\n",
       "    }\n",
       "\n",
       "    .dataframe thead th {\n",
       "        text-align: right;\n",
       "    }\n",
       "</style>\n",
       "<table border=\"1\" class=\"dataframe\">\n",
       "  <thead>\n",
       "    <tr style=\"text-align: right;\">\n",
       "      <th></th>\n",
       "      <th>file</th>\n",
       "      <th>message</th>\n",
       "    </tr>\n",
       "  </thead>\n",
       "  <tbody>\n",
       "    <tr>\n",
       "      <th>0</th>\n",
       "      <td>allen-p/_sent_mail/1.</td>\n",
       "      <td>Message-ID: &lt;18782981.1075855378110.JavaMail.e...</td>\n",
       "    </tr>\n",
       "    <tr>\n",
       "      <th>1</th>\n",
       "      <td>allen-p/_sent_mail/10.</td>\n",
       "      <td>Message-ID: &lt;15464986.1075855378456.JavaMail.e...</td>\n",
       "    </tr>\n",
       "    <tr>\n",
       "      <th>2</th>\n",
       "      <td>allen-p/_sent_mail/100.</td>\n",
       "      <td>Message-ID: &lt;24216240.1075855687451.JavaMail.e...</td>\n",
       "    </tr>\n",
       "    <tr>\n",
       "      <th>3</th>\n",
       "      <td>allen-p/_sent_mail/1000.</td>\n",
       "      <td>Message-ID: &lt;13505866.1075863688222.JavaMail.e...</td>\n",
       "    </tr>\n",
       "    <tr>\n",
       "      <th>4</th>\n",
       "      <td>allen-p/_sent_mail/1001.</td>\n",
       "      <td>Message-ID: &lt;30922949.1075863688243.JavaMail.e...</td>\n",
       "    </tr>\n",
       "  </tbody>\n",
       "</table>\n",
       "</div>"
      ],
      "text/plain": [
       "                       file                                            message\n",
       "0     allen-p/_sent_mail/1.  Message-ID: <18782981.1075855378110.JavaMail.e...\n",
       "1    allen-p/_sent_mail/10.  Message-ID: <15464986.1075855378456.JavaMail.e...\n",
       "2   allen-p/_sent_mail/100.  Message-ID: <24216240.1075855687451.JavaMail.e...\n",
       "3  allen-p/_sent_mail/1000.  Message-ID: <13505866.1075863688222.JavaMail.e...\n",
       "4  allen-p/_sent_mail/1001.  Message-ID: <30922949.1075863688243.JavaMail.e..."
      ]
     },
     "execution_count": 5,
     "metadata": {},
     "output_type": "execute_result"
    }
   ],
   "source": [
    "data.head()"
   ]
  },
  {
   "cell_type": "code",
   "execution_count": 6,
   "id": "12caaa35",
   "metadata": {
    "execution": {
     "iopub.execute_input": "2023-11-11T17:45:11.868703Z",
     "iopub.status.busy": "2023-11-11T17:45:11.868263Z",
     "iopub.status.idle": "2023-11-11T17:45:11.874757Z",
     "shell.execute_reply": "2023-11-11T17:45:11.872814Z"
    },
    "papermill": {
     "duration": 0.013684,
     "end_time": "2023-11-11T17:45:11.877177",
     "exception": false,
     "start_time": "2023-11-11T17:45:11.863493",
     "status": "completed"
    },
    "tags": []
   },
   "outputs": [
    {
     "name": "stdout",
     "output_type": "stream",
     "text": [
      "Message-ID: <18782981.1075855378110.JavaMail.evans@thyme>\n",
      "Date: Mon, 14 May 2001 16:39:00 -0700 (PDT)\n",
      "From: phillip.allen@enron.com\n",
      "To: tim.belden@enron.com\n",
      "Subject: \n",
      "Mime-Version: 1.0\n",
      "Content-Type: text/plain; charset=us-ascii\n",
      "Content-Transfer-Encoding: 7bit\n",
      "X-From: Phillip K Allen\n",
      "X-To: Tim Belden <Tim Belden/Enron@EnronXGate>\n",
      "X-cc: \n",
      "X-bcc: \n",
      "X-Folder: \\Phillip_Allen_Jan2002_1\\Allen, Phillip K.\\'Sent Mail\n",
      "X-Origin: Allen-P\n",
      "X-FileName: pallen (Non-Privileged).pst\n",
      "\n",
      "Here is our forecast\n",
      "\n",
      " \n"
     ]
    }
   ],
   "source": [
    "print(data.iloc[0,1])"
   ]
  },
  {
   "cell_type": "code",
   "execution_count": 7,
   "id": "35b4f1fd",
   "metadata": {
    "execution": {
     "iopub.execute_input": "2023-11-11T17:45:11.886030Z",
     "iopub.status.busy": "2023-11-11T17:45:11.885669Z",
     "iopub.status.idle": "2023-11-11T17:45:11.891483Z",
     "shell.execute_reply": "2023-11-11T17:45:11.889805Z"
    },
    "papermill": {
     "duration": 0.013704,
     "end_time": "2023-11-11T17:45:11.894539",
     "exception": false,
     "start_time": "2023-11-11T17:45:11.880835",
     "status": "completed"
    },
    "tags": []
   },
   "outputs": [],
   "source": [
    "df = data"
   ]
  },
  {
   "cell_type": "code",
   "execution_count": 8,
   "id": "fdd1985b",
   "metadata": {
    "execution": {
     "iopub.execute_input": "2023-11-11T17:45:11.904825Z",
     "iopub.status.busy": "2023-11-11T17:45:11.904077Z",
     "iopub.status.idle": "2023-11-11T17:45:11.910607Z",
     "shell.execute_reply": "2023-11-11T17:45:11.908507Z"
    },
    "papermill": {
     "duration": 0.014684,
     "end_time": "2023-11-11T17:45:11.913124",
     "exception": false,
     "start_time": "2023-11-11T17:45:11.898440",
     "status": "completed"
    },
    "tags": []
   },
   "outputs": [],
   "source": [
    "import email"
   ]
  },
  {
   "cell_type": "code",
   "execution_count": 9,
   "id": "6566861c",
   "metadata": {
    "execution": {
     "iopub.execute_input": "2023-11-11T17:45:11.922463Z",
     "iopub.status.busy": "2023-11-11T17:45:11.922066Z",
     "iopub.status.idle": "2023-11-11T17:45:11.928676Z",
     "shell.execute_reply": "2023-11-11T17:45:11.927073Z"
    },
    "papermill": {
     "duration": 0.014427,
     "end_time": "2023-11-11T17:45:11.931411",
     "exception": false,
     "start_time": "2023-11-11T17:45:11.916984",
     "status": "completed"
    },
    "tags": []
   },
   "outputs": [],
   "source": [
    "# Write functions to extract mail headers and body\n",
    "def extractmailitems(field, msg):\n",
    "    elst = []\n",
    "    \n",
    "    for i, message in (msg.items()):\n",
    "        e = email.message_from_string(message)\n",
    "        elst.append(e.get(field))\n",
    "       \n",
    "    return elst"
   ]
  },
  {
   "cell_type": "code",
   "execution_count": 10,
   "id": "db249297",
   "metadata": {
    "execution": {
     "iopub.execute_input": "2023-11-11T17:45:11.941058Z",
     "iopub.status.busy": "2023-11-11T17:45:11.940658Z",
     "iopub.status.idle": "2023-11-11T17:54:24.431430Z",
     "shell.execute_reply": "2023-11-11T17:54:24.430297Z"
    },
    "papermill": {
     "duration": 552.499205,
     "end_time": "2023-11-11T17:54:24.434389",
     "exception": false,
     "start_time": "2023-11-11T17:45:11.935184",
     "status": "completed"
    },
    "tags": []
   },
   "outputs": [],
   "source": [
    "columns = ['Date', 'From', 'To', 'Subject', 'X-From', 'X-To', 'X-Folder', 'X-Origin', 'X-Filename']\n",
    "for i in columns:\n",
    "    df[i] = extractmailitems(i, df['message'])"
   ]
  },
  {
   "cell_type": "code",
   "execution_count": 11,
   "id": "2bb58cc0",
   "metadata": {
    "execution": {
     "iopub.execute_input": "2023-11-11T17:54:24.444173Z",
     "iopub.status.busy": "2023-11-11T17:54:24.443430Z",
     "iopub.status.idle": "2023-11-11T17:55:26.256061Z",
     "shell.execute_reply": "2023-11-11T17:55:26.254584Z"
    },
    "papermill": {
     "duration": 61.820238,
     "end_time": "2023-11-11T17:55:26.258662",
     "exception": false,
     "start_time": "2023-11-11T17:54:24.438424",
     "status": "completed"
    },
    "tags": []
   },
   "outputs": [],
   "source": [
    "def body(col):\n",
    "    bodycolumn = []\n",
    "    for message in col.values:\n",
    "        e = email.message_from_string(message)\n",
    "        bodycolumn.append(e.get_payload())\n",
    " \n",
    "    return bodycolumn\n",
    "df['Body'] = body(df['message'])"
   ]
  },
  {
   "cell_type": "code",
   "execution_count": 12,
   "id": "1218e3f2",
   "metadata": {
    "execution": {
     "iopub.execute_input": "2023-11-11T17:55:26.267400Z",
     "iopub.status.busy": "2023-11-11T17:55:26.266998Z",
     "iopub.status.idle": "2023-11-11T17:55:26.533809Z",
     "shell.execute_reply": "2023-11-11T17:55:26.532394Z"
    },
    "papermill": {
     "duration": 0.273885,
     "end_time": "2023-11-11T17:55:26.536269",
     "exception": false,
     "start_time": "2023-11-11T17:55:26.262384",
     "status": "completed"
    },
    "tags": []
   },
   "outputs": [],
   "source": [
    "# extract emplyees' names from file column\n",
    "def employees(files):\n",
    "    employees = []\n",
    "    for i, employee in files.items():\n",
    "        employee = employee.split('/')[0]\n",
    "        employees.append(employee)\n",
    "    return employees\n",
    "df['Employee'] = employees(df['file'])"
   ]
  },
  {
   "cell_type": "code",
   "execution_count": 13,
   "id": "059817f1",
   "metadata": {
    "execution": {
     "iopub.execute_input": "2023-11-11T17:55:26.545924Z",
     "iopub.status.busy": "2023-11-11T17:55:26.544660Z",
     "iopub.status.idle": "2023-11-11T17:55:26.560007Z",
     "shell.execute_reply": "2023-11-11T17:55:26.558608Z"
    },
    "papermill": {
     "duration": 0.022259,
     "end_time": "2023-11-11T17:55:26.562287",
     "exception": false,
     "start_time": "2023-11-11T17:55:26.540028",
     "status": "completed"
    },
    "tags": []
   },
   "outputs": [
    {
     "data": {
      "text/html": [
       "<div>\n",
       "<style scoped>\n",
       "    .dataframe tbody tr th:only-of-type {\n",
       "        vertical-align: middle;\n",
       "    }\n",
       "\n",
       "    .dataframe tbody tr th {\n",
       "        vertical-align: top;\n",
       "    }\n",
       "\n",
       "    .dataframe thead th {\n",
       "        text-align: right;\n",
       "    }\n",
       "</style>\n",
       "<table border=\"1\" class=\"dataframe\">\n",
       "  <thead>\n",
       "    <tr style=\"text-align: right;\">\n",
       "      <th></th>\n",
       "      <th>file</th>\n",
       "      <th>message</th>\n",
       "      <th>Date</th>\n",
       "      <th>From</th>\n",
       "      <th>To</th>\n",
       "      <th>Subject</th>\n",
       "      <th>X-From</th>\n",
       "      <th>X-To</th>\n",
       "      <th>X-Folder</th>\n",
       "      <th>X-Origin</th>\n",
       "      <th>X-Filename</th>\n",
       "      <th>Body</th>\n",
       "      <th>Employee</th>\n",
       "    </tr>\n",
       "  </thead>\n",
       "  <tbody>\n",
       "    <tr>\n",
       "      <th>0</th>\n",
       "      <td>allen-p/_sent_mail/1.</td>\n",
       "      <td>Message-ID: &lt;18782981.1075855378110.JavaMail.e...</td>\n",
       "      <td>Mon, 14 May 2001 16:39:00 -0700 (PDT)</td>\n",
       "      <td>phillip.allen@enron.com</td>\n",
       "      <td>tim.belden@enron.com</td>\n",
       "      <td></td>\n",
       "      <td>Phillip K Allen</td>\n",
       "      <td>Tim Belden &lt;Tim Belden/Enron@EnronXGate&gt;</td>\n",
       "      <td>\\Phillip_Allen_Jan2002_1\\Allen, Phillip K.\\'Se...</td>\n",
       "      <td>Allen-P</td>\n",
       "      <td>pallen (Non-Privileged).pst</td>\n",
       "      <td>Here is our forecast\\n\\n</td>\n",
       "      <td>allen-p</td>\n",
       "    </tr>\n",
       "    <tr>\n",
       "      <th>1</th>\n",
       "      <td>allen-p/_sent_mail/10.</td>\n",
       "      <td>Message-ID: &lt;15464986.1075855378456.JavaMail.e...</td>\n",
       "      <td>Fri, 4 May 2001 13:51:00 -0700 (PDT)</td>\n",
       "      <td>phillip.allen@enron.com</td>\n",
       "      <td>john.lavorato@enron.com</td>\n",
       "      <td>Re:</td>\n",
       "      <td>Phillip K Allen</td>\n",
       "      <td>John J Lavorato &lt;John J Lavorato/ENRON@enronXg...</td>\n",
       "      <td>\\Phillip_Allen_Jan2002_1\\Allen, Phillip K.\\'Se...</td>\n",
       "      <td>Allen-P</td>\n",
       "      <td>pallen (Non-Privileged).pst</td>\n",
       "      <td>Traveling to have a business meeting takes the...</td>\n",
       "      <td>allen-p</td>\n",
       "    </tr>\n",
       "    <tr>\n",
       "      <th>2</th>\n",
       "      <td>allen-p/_sent_mail/100.</td>\n",
       "      <td>Message-ID: &lt;24216240.1075855687451.JavaMail.e...</td>\n",
       "      <td>Wed, 18 Oct 2000 03:00:00 -0700 (PDT)</td>\n",
       "      <td>phillip.allen@enron.com</td>\n",
       "      <td>leah.arsdall@enron.com</td>\n",
       "      <td>Re: test</td>\n",
       "      <td>Phillip K Allen</td>\n",
       "      <td>Leah Van Arsdall</td>\n",
       "      <td>\\Phillip_Allen_Dec2000\\Notes Folders\\'sent mail</td>\n",
       "      <td>Allen-P</td>\n",
       "      <td>pallen.nsf</td>\n",
       "      <td>test successful.  way to go!!!</td>\n",
       "      <td>allen-p</td>\n",
       "    </tr>\n",
       "    <tr>\n",
       "      <th>3</th>\n",
       "      <td>allen-p/_sent_mail/1000.</td>\n",
       "      <td>Message-ID: &lt;13505866.1075863688222.JavaMail.e...</td>\n",
       "      <td>Mon, 23 Oct 2000 06:13:00 -0700 (PDT)</td>\n",
       "      <td>phillip.allen@enron.com</td>\n",
       "      <td>randall.gay@enron.com</td>\n",
       "      <td></td>\n",
       "      <td>Phillip K Allen</td>\n",
       "      <td>Randall L Gay</td>\n",
       "      <td>\\Phillip_Allen_Dec2000\\Notes Folders\\'sent mail</td>\n",
       "      <td>Allen-P</td>\n",
       "      <td>pallen.nsf</td>\n",
       "      <td>Randy,\\n\\n Can you send me a schedule of the s...</td>\n",
       "      <td>allen-p</td>\n",
       "    </tr>\n",
       "    <tr>\n",
       "      <th>4</th>\n",
       "      <td>allen-p/_sent_mail/1001.</td>\n",
       "      <td>Message-ID: &lt;30922949.1075863688243.JavaMail.e...</td>\n",
       "      <td>Thu, 31 Aug 2000 05:07:00 -0700 (PDT)</td>\n",
       "      <td>phillip.allen@enron.com</td>\n",
       "      <td>greg.piper@enron.com</td>\n",
       "      <td>Re: Hello</td>\n",
       "      <td>Phillip K Allen</td>\n",
       "      <td>Greg Piper</td>\n",
       "      <td>\\Phillip_Allen_Dec2000\\Notes Folders\\'sent mail</td>\n",
       "      <td>Allen-P</td>\n",
       "      <td>pallen.nsf</td>\n",
       "      <td>Let's shoot for Tuesday at 11:45.</td>\n",
       "      <td>allen-p</td>\n",
       "    </tr>\n",
       "  </tbody>\n",
       "</table>\n",
       "</div>"
      ],
      "text/plain": [
       "                       file  \\\n",
       "0     allen-p/_sent_mail/1.   \n",
       "1    allen-p/_sent_mail/10.   \n",
       "2   allen-p/_sent_mail/100.   \n",
       "3  allen-p/_sent_mail/1000.   \n",
       "4  allen-p/_sent_mail/1001.   \n",
       "\n",
       "                                             message  \\\n",
       "0  Message-ID: <18782981.1075855378110.JavaMail.e...   \n",
       "1  Message-ID: <15464986.1075855378456.JavaMail.e...   \n",
       "2  Message-ID: <24216240.1075855687451.JavaMail.e...   \n",
       "3  Message-ID: <13505866.1075863688222.JavaMail.e...   \n",
       "4  Message-ID: <30922949.1075863688243.JavaMail.e...   \n",
       "\n",
       "                                    Date                     From  \\\n",
       "0  Mon, 14 May 2001 16:39:00 -0700 (PDT)  phillip.allen@enron.com   \n",
       "1   Fri, 4 May 2001 13:51:00 -0700 (PDT)  phillip.allen@enron.com   \n",
       "2  Wed, 18 Oct 2000 03:00:00 -0700 (PDT)  phillip.allen@enron.com   \n",
       "3  Mon, 23 Oct 2000 06:13:00 -0700 (PDT)  phillip.allen@enron.com   \n",
       "4  Thu, 31 Aug 2000 05:07:00 -0700 (PDT)  phillip.allen@enron.com   \n",
       "\n",
       "                        To    Subject           X-From  \\\n",
       "0     tim.belden@enron.com             Phillip K Allen   \n",
       "1  john.lavorato@enron.com        Re:  Phillip K Allen   \n",
       "2   leah.arsdall@enron.com   Re: test  Phillip K Allen   \n",
       "3    randall.gay@enron.com             Phillip K Allen   \n",
       "4     greg.piper@enron.com  Re: Hello  Phillip K Allen   \n",
       "\n",
       "                                                X-To  \\\n",
       "0           Tim Belden <Tim Belden/Enron@EnronXGate>   \n",
       "1  John J Lavorato <John J Lavorato/ENRON@enronXg...   \n",
       "2                                   Leah Van Arsdall   \n",
       "3                                      Randall L Gay   \n",
       "4                                         Greg Piper   \n",
       "\n",
       "                                            X-Folder X-Origin  \\\n",
       "0  \\Phillip_Allen_Jan2002_1\\Allen, Phillip K.\\'Se...  Allen-P   \n",
       "1  \\Phillip_Allen_Jan2002_1\\Allen, Phillip K.\\'Se...  Allen-P   \n",
       "2    \\Phillip_Allen_Dec2000\\Notes Folders\\'sent mail  Allen-P   \n",
       "3    \\Phillip_Allen_Dec2000\\Notes Folders\\'sent mail  Allen-P   \n",
       "4    \\Phillip_Allen_Dec2000\\Notes Folders\\'sent mail  Allen-P   \n",
       "\n",
       "                    X-Filename  \\\n",
       "0  pallen (Non-Privileged).pst   \n",
       "1  pallen (Non-Privileged).pst   \n",
       "2                   pallen.nsf   \n",
       "3                   pallen.nsf   \n",
       "4                   pallen.nsf   \n",
       "\n",
       "                                                Body Employee  \n",
       "0                          Here is our forecast\\n\\n   allen-p  \n",
       "1  Traveling to have a business meeting takes the...  allen-p  \n",
       "2                     test successful.  way to go!!!  allen-p  \n",
       "3  Randy,\\n\\n Can you send me a schedule of the s...  allen-p  \n",
       "4                Let's shoot for Tuesday at 11:45.    allen-p  "
      ]
     },
     "execution_count": 13,
     "metadata": {},
     "output_type": "execute_result"
    }
   ],
   "source": [
    "df.head()"
   ]
  }
 ],
 "metadata": {
  "kernelspec": {
   "display_name": "Python 3",
   "language": "python",
   "name": "python3"
  },
  "language_info": {
   "codemirror_mode": {
    "name": "ipython",
    "version": 3
   },
   "file_extension": ".py",
   "mimetype": "text/x-python",
   "name": "python",
   "nbconvert_exporter": "python",
   "pygments_lexer": "ipython3",
   "version": "3.10.12"
  },
  "papermill": {
   "default_parameters": {},
   "duration": 646.407056,
   "end_time": "2023-11-11T17:55:27.593536",
   "environment_variables": {},
   "exception": null,
   "input_path": "__notebook__.ipynb",
   "output_path": "__notebook__.ipynb",
   "parameters": {},
   "start_time": "2023-11-11T17:44:41.186480",
   "version": "2.4.0"
  }
 },
 "nbformat": 4,
 "nbformat_minor": 5
}
